{
 "cells": [
  {
   "cell_type": "code",
   "execution_count": 1,
   "id": "6e382968",
   "metadata": {},
   "outputs": [],
   "source": [
    "import cv2\n",
    "import os"
   ]
  },
  {
   "cell_type": "code",
   "execution_count": 2,
   "id": "0bd68bf0",
   "metadata": {},
   "outputs": [],
   "source": [
    "loc=r\"C:\\Users\\Mohammed Nizer\\Desktop\\project\\dataset\""
   ]
  },
  {
   "cell_type": "code",
   "execution_count": 3,
   "id": "4e0c239e",
   "metadata": {},
   "outputs": [],
   "source": [
    "alpha=\"stop\""
   ]
  },
  {
   "cell_type": "code",
   "execution_count": 4,
   "id": "9505d07d",
   "metadata": {},
   "outputs": [
    {
     "name": "stdout",
     "output_type": "stream",
     "text": [
      "starting...\n",
      "completed...\n"
     ]
    }
   ],
   "source": [
    "cap = cv2.VideoCapture(0)\n",
    "k=0\n",
    "j=0\n",
    "flag=0\n",
    "loc1=os.path.join(loc,\"train\")\n",
    "loc1=os.path.join(loc1,alpha)\n",
    "if not os.path.isdir(loc1):\n",
    "    os.makedirs(loc1)\n",
    "loc2=os.path.join(loc,\"test\")\n",
    "loc2=os.path.join(loc2,alpha)\n",
    "if not os.path.isdir(loc2):\n",
    "    os.makedirs(loc2)\n",
    "while 1:\n",
    "            ok, frame =cap.read()\n",
    "            if ok:\n",
    "                cv2image = cv2.flip(frame, 1)\n",
    "                x1 = int(0.5*frame.shape[1])\n",
    "                y1 = 10\n",
    "                x2 = frame.shape[1]-10\n",
    "                y2 = int(0.5*frame.shape[1])\n",
    "                cv2.rectangle(frame, (x1-1, y1-1), (x2+1, y2+1), (255, 0, 0), 1)\n",
    "                #cv2image = cv2.cvtColor(cv2image, cv2.COLOR_BGR2RGBA)\n",
    "                cv2image = cv2image[y1:y2, x1:x2]\n",
    "                gray = cv2.cvtColor(cv2image, cv2.COLOR_BGR2GRAY)\n",
    "                blur = cv2.GaussianBlur(gray, (5, 5), 2)\n",
    "                th3 = cv2.adaptiveThreshold(\n",
    "                    blur, 255, cv2.ADAPTIVE_THRESH_GAUSSIAN_C, cv2.THRESH_BINARY_INV, 11, 2)\n",
    "                ret, res = cv2.threshold(\n",
    "                    th3, 70, 255, cv2.THRESH_BINARY_INV+cv2.THRESH_OTSU)\n",
    "                #cv2.imshow(res)\n",
    "                cv2.imshow(\"output\",res)\n",
    "                key = cv2.waitKey(1)\n",
    "                if key == 27:\n",
    "                    flag=1\n",
    "                    print(\"starting...\")\n",
    "                if flag==1 and k<1000:\n",
    "                    name=str(k)+\".png\"\n",
    "                    path=os.path.join(loc1,name)\n",
    "                    cv2.imwrite(path,res)\n",
    "                    k=k+1\n",
    "                if k>=1000:\n",
    "                    if j<150:\n",
    "                        name=str(j)+\".png\"\n",
    "                        path=os.path.join(loc2,name)\n",
    "                        cv2.imwrite(path,res)\n",
    "                        j=j+1\n",
    "                    else:\n",
    "                        break\n",
    "cap.release()\n",
    "cv2.destroyAllWindows()\n",
    "print(\"completed...\")"
   ]
  },
  {
   "cell_type": "code",
   "execution_count": null,
   "id": "31025633",
   "metadata": {},
   "outputs": [],
   "source": []
  },
  {
   "cell_type": "code",
   "execution_count": null,
   "id": "4a176027",
   "metadata": {},
   "outputs": [],
   "source": []
  },
  {
   "cell_type": "code",
   "execution_count": null,
   "id": "fa9f4c74",
   "metadata": {},
   "outputs": [],
   "source": []
  },
  {
   "cell_type": "code",
   "execution_count": null,
   "id": "a26feab6",
   "metadata": {},
   "outputs": [],
   "source": []
  },
  {
   "cell_type": "code",
   "execution_count": null,
   "id": "f653c75f",
   "metadata": {},
   "outputs": [],
   "source": []
  }
 ],
 "metadata": {
  "kernelspec": {
   "display_name": "Python 3 (ipykernel)",
   "language": "python",
   "name": "python3"
  },
  "language_info": {
   "codemirror_mode": {
    "name": "ipython",
    "version": 3
   },
   "file_extension": ".py",
   "mimetype": "text/x-python",
   "name": "python",
   "nbconvert_exporter": "python",
   "pygments_lexer": "ipython3",
   "version": "3.9.12"
  }
 },
 "nbformat": 4,
 "nbformat_minor": 5
}
